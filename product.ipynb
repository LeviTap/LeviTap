{
 "cells": [
  {
   "cell_type": "code",
   "execution_count": 6,
   "metadata": {},
   "outputs": [
    {
     "name": "stdout",
     "output_type": "stream",
     "text": [
      "Defaulting to user installation because normal site-packages is not writeable\n",
      "\u001b[31mERROR: Could not open requirements file: [Errno 2] No such file or directory: 'requirements.txt'\u001b[0m\u001b[31m\n",
      "\u001b[0m\n",
      "\u001b[1m[\u001b[0m\u001b[34;49mnotice\u001b[0m\u001b[1;39;49m]\u001b[0m\u001b[39;49m A new release of pip is available: \u001b[0m\u001b[31;49m23.1.2\u001b[0m\u001b[39;49m -> \u001b[0m\u001b[32;49m23.3.1\u001b[0m\n",
      "\u001b[1m[\u001b[0m\u001b[34;49mnotice\u001b[0m\u001b[1;39;49m]\u001b[0m\u001b[39;49m To update, run: \u001b[0m\u001b[32;49mpython3 -m pip install --upgrade pip\u001b[0m\n"
     ]
    }
   ],
   "source": [
    "!pip3 install -r requirements.txt"
   ]
  },
  {
   "cell_type": "code",
   "execution_count": 7,
   "metadata": {},
   "outputs": [
    {
     "name": "stdout",
     "output_type": "stream",
     "text": [
      "Untitled.ipynb\tcs320-lecture-notes  gift.zip\tnohup.out  snap\n",
      "chatgpt\t\tcs320-s23-projects   gift2.zip\torig.csv   ticks.txt\n",
      "cs320-lab2\tfinal.csv\t     myproject\torig.txt\n"
     ]
    }
   ],
   "source": [
    "!ls"
   ]
  },
  {
   "cell_type": "code",
   "execution_count": 4,
   "metadata": {},
   "outputs": [
    {
     "ename": "ModuleNotFoundError",
     "evalue": "No module named 'mediapipe'",
     "output_type": "error",
     "traceback": [
      "\u001b[0;31m---------------------------------------------------------------------------\u001b[0m",
      "\u001b[0;31mModuleNotFoundError\u001b[0m                       Traceback (most recent call last)",
      "\u001b[1;32m/Users/saksham/madHacks-2023/product.ipynb Cell 1\u001b[0m line \u001b[0;36m1\n\u001b[0;32m----> <a href='vscode-notebook-cell:/Users/saksham/madHacks-2023/product.ipynb#W1sZmlsZQ%3D%3D?line=0'>1</a>\u001b[0m \u001b[39mimport\u001b[39;00m \u001b[39mmediapipe\u001b[39;00m \u001b[39mas\u001b[39;00m \u001b[39mmp\u001b[39;00m\n\u001b[1;32m      <a href='vscode-notebook-cell:/Users/saksham/madHacks-2023/product.ipynb#W1sZmlsZQ%3D%3D?line=1'>2</a>\u001b[0m \u001b[39mimport\u001b[39;00m \u001b[39mnumpy\u001b[39;00m \u001b[39mas\u001b[39;00m \u001b[39mnp\u001b[39;00m\n\u001b[1;32m      <a href='vscode-notebook-cell:/Users/saksham/madHacks-2023/product.ipynb#W1sZmlsZQ%3D%3D?line=2'>3</a>\u001b[0m \u001b[39mimport\u001b[39;00m \u001b[39mtime\u001b[39;00m\n",
      "\u001b[0;31mModuleNotFoundError\u001b[0m: No module named 'mediapipe'"
     ]
    }
   ],
   "source": [
    "import mediapipe as mp\n",
    "import numpy as np\n",
    "import time\n",
    "import autopy\n",
    "import pyautogui\n",
    "\n",
    "x,y=0,0\n",
    "cx,cy = 0,0\n",
    "\n",
    "startx, starty, endx, endy = 0,0,0,0\n",
    "k = 0\n",
    "\n",
    "def onMouse(event, x, y, flags, param):\n",
    " global startx, starty, endx, endy, k\n",
    "\n",
    " if event == cv2.EVENT_LBUTTONDOWN:\n",
    "  startx, starty = x*2,y*2\n",
    "  k += 1\n",
    "  print(\"set s\")\n",
    "\n",
    " elif event == cv2.EVENT_RBUTTONDOWN:\n",
    "  endx, endy = x*2, y*2\n",
    "  k += 1\n",
    "  print(\"set e\")\n",
    "\n",
    "cv2.namedWindow(\"setpoint\")\n",
    "cv2.setMouseCallback(\"setpoint\", onMouse)\n",
    "\n",
    "print('going to take screenshot! /n show only the player window clearly !')\n",
    "time.sleep(2)\n",
    "im = pyautogui.screenshot().convert('RGB')\n",
    "im = np.array(im)\n",
    "im = im[:, :, ::-1]\n",
    "\n",
    "im = cv2.resize(im, (960,540))\n",
    "\n",
    "while True:\n",
    " cv2.imshow(\"setpoint\", im)\n",
    " if cv2.waitKey(1) == 27 or k==2:\n",
    "  cv2.destroyAllWindows()\n",
    "  break\n",
    "\n",
    "\n",
    "hnds = mp.solutions.hands\n",
    "hnds_mesh = hnds.Hands(static_image_mode=False, min_detection_confidence=0.8, min_tracking_confidence=0.8)\n",
    "draw = mp.solutions.drawing_utils\n",
    "\n",
    "cap  = cv2.VideoCapture(0)\n",
    "\n",
    "done = False\n",
    "pset = False\n",
    "\n",
    "linewidth = (endx - startx)\n",
    "seekwidth = 200\n",
    "mul = int(linewidth/seekwidth)\n",
    "ptime, ctime = 0,0\n",
    "rad = 30\n",
    "while True:\n",
    " _, frm = cap.read()\n",
    " frm = cv2.flip(frm, 1)\n",
    "\n",
    " rgb = cv2.cvtColor(frm, cv2.COLOR_BGR2RGB)\n",
    "\n",
    " op = hnds_mesh.process(rgb)\n",
    "\n",
    " if op.multi_hand_landmarks:\n",
    "  for i in op.multi_hand_landmarks:\n",
    "   point8 = i.landmark[8]\n",
    "   point5 = i.landmark[5]\n",
    "   draw.draw_landmarks(frm, i, hnds.HAND_CONNECTIONS)\n",
    "\n",
    "   if int(abs(point8.y*480 - point5.y*480)) > 35:\n",
    "    # one\n",
    "    if not(pset):\n",
    "     pset = True\n",
    "     ptime = time.time()\n",
    "\n",
    "    ctime = time.time()\n",
    "\n",
    "    if (ctime - ptime) > 1:\n",
    "     if not(done):\n",
    "      x = int(point8.x*640)\n",
    "      y = int(point8.y*480)\n",
    "      done = True\n",
    "\n",
    "     cx = int(point8.x*640)\n",
    "\n",
    "     if cx < x:\n",
    "      cx = x\n",
    "     elif cx > (x+seekwidth):\n",
    "      cx = x+seekwidth\n",
    "\n",
    "     cv2.line(frm, (x,y), (x+seekwidth, y), (255,0,255), 6)\n",
    "     cv2.circle(frm, (cx,y), 9, (0,255,0), -1)\n",
    "\n",
    "     autopy.mouse.move((cx-x)*mul+startx,starty)\n",
    "\n",
    "    else:\n",
    "     cv2.circle(frm, (int(point8.x*640),int(point8.y*480)), rad, (0,255,255), 3)\n",
    "     if rad > 4:\n",
    "      rad -= 1\n",
    "\n",
    "   else:\n",
    "    # not one\n",
    "    if done:\n",
    "     autopy.mouse.click()\n",
    "    done = False\n",
    "    pset = False\n",
    "    ctime = 0\n",
    "    ptime = 0\n",
    "    rad = 30\n",
    "\n",
    " cv2.imshow(\"window\", frm)\n",
    "\n",
    "\n",
    " if cv2.waitKey(1) == 27:\n",
    "  cv2.destroyAllWindows()\n",
    "  cap.release()\n",
    "  break"
   ]
  },
  {
   "cell_type": "code",
   "execution_count": null,
   "metadata": {},
   "outputs": [],
   "source": []
  }
 ],
 "metadata": {
  "kernelspec": {
   "display_name": "Python 3 (ipykernel)",
   "language": "python",
   "name": "python3"
  },
  "language_info": {
   "codemirror_mode": {
    "name": "ipython",
    "version": 3
   },
   "file_extension": ".py",
   "mimetype": "text/x-python",
   "name": "python",
   "nbconvert_exporter": "python",
   "pygments_lexer": "ipython3",
   "version": "3.10.12"
  }
 },
 "nbformat": 4,
 "nbformat_minor": 2
}
